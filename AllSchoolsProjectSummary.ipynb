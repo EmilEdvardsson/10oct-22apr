{
  "nbformat": 4,
  "nbformat_minor": 0,
  "metadata": {
    "colab": {
      "provenance": [],
      "authorship_tag": "ABX9TyPZZKSX/rOt8MFQBc+0bBQX",
      "include_colab_link": true
    },
    "kernelspec": {
      "name": "python3",
      "display_name": "Python 3"
    },
    "language_info": {
      "name": "python"
    }
  },
  "cells": [
    {
      "cell_type": "markdown",
      "metadata": {
        "id": "view-in-github",
        "colab_type": "text"
      },
      "source": [
        "<a href=\"https://colab.research.google.com/github/EmilEdvardsson/10oct-22apr/blob/main/AllSchoolsProjectSummary.ipynb\" target=\"_parent\"><img src=\"https://colab.research.google.com/assets/colab-badge.svg\" alt=\"Open In Colab\"/></a>"
      ]
    },
    {
      "cell_type": "code",
      "execution_count": null,
      "metadata": {
        "id": "X-zrqhr-YzPY"
      },
      "outputs": [],
      "source": [
        "import pandas as pd\n",
        "import numpy as np\n",
        "import matplotlib.pyplot as plt\n",
        "import seaborn as sns; sns.set_theme(color_codes=True)\n",
        "import sklearn.preprocessing as skl_pre\n",
        "import sklearn.linear_model as skl_lm\n",
        "import sklearn.discriminant_analysis as skl_da\n",
        "import sklearn.neighbors as skl_nb\n",
        "import sklearn.model_selection as skl_ms\n",
        "from sklearn import tree\n",
        "from sklearn.ensemble import BaggingClassifier, RandomForestClassifier, AdaBoostClassifier, RandomForestRegressor, GradientBoostingRegressor\n",
        "from sklearn.metrics import precision_recall_curve, classification_report\n",
        "from sklearn.feature_selection import SelectKBest, f_classif\n",
        "from sklearn.model_selection import train_test_split\n",
        "from sklearn.metrics import mean_squared_error\n",
        "from sklearn.linear_model import ElasticNet\n",
        "from sklearn.linear_model import SGDRegressor\n",
        "from sklearn.svm import SVR\n",
        "from sklearn.linear_model import BayesianRidge\n",
        "#!pip install catboost\n",
        "#from catboost import CatBoostRegressor\n",
        "from sklearn.kernel_ridge import KernelRidge\n",
        "from xgboost.sklearn import XGBRegressor\n",
        "from lightgbm import LGBMRegressor\n",
        "from sklearn.neighbors import KNeighborsRegressor\n",
        "from sklearn.metrics import mean_absolute_error"
      ]
    },
    {
      "cell_type": "code",
      "source": [
        "from google.colab import drive\n",
        "drive.mount('/content/gdrive')\n",
        "data2 = pd.read_csv('/content/gdrive/MyDrive/daily_data_all_schools.csv')"
      ],
      "metadata": {
        "colab": {
          "base_uri": "https://localhost:8080/"
        },
        "id": "nbkR-UvgY3Aj",
        "outputId": "83eecfad-3581-49db-9da3-7a637f8cb022"
      },
      "execution_count": null,
      "outputs": [
        {
          "output_type": "stream",
          "name": "stdout",
          "text": [
            "Mounted at /content/gdrive\n"
          ]
        }
      ]
    },
    {
      "cell_type": "code",
      "source": [
        "data2 = data2.drop(['Unnamed: 0'],axis=1)"
      ],
      "metadata": {
        "id": "02_gbYe6ZIHN"
      },
      "execution_count": null,
      "outputs": []
    },
    {
      "cell_type": "code",
      "source": [
        "data2 = data2.drop(list(range(55,60)), axis = 0) #Höstlov 1-5e november\n",
        "data2 = data2.drop([29], axis = 0)#Lov 24e september\n",
        "data2 = data2.reset_index(drop=True)"
      ],
      "metadata": {
        "id": "hcDCuJUa6dGX"
      },
      "execution_count": null,
      "outputs": []
    },
    {
      "cell_type": "code",
      "source": [
        "data2"
      ],
      "metadata": {
        "colab": {
          "base_uri": "https://localhost:8080/",
          "height": 424
        },
        "id": "ewkvE-rT84i0",
        "outputId": "f84f4ebc-19d5-40ea-9eb2-bf4d2ac0dd70"
      },
      "execution_count": null,
      "outputs": [
        {
          "output_type": "execute_result",
          "data": {
            "text/plain": [
              "           Date  Month  Day  Central  Domar  Ärentuna  Stenhagen  Total Power  \\\n",
              "0    2021-10-05     10    5        1      0         0          0    1193843.0   \n",
              "1    2021-10-06     10    6        1      0         0          0    1438341.0   \n",
              "2    2021-10-07     10    7        1      0         0          0    1346118.0   \n",
              "3    2021-10-08     10    8        1      0         0          0    2272796.0   \n",
              "4    2021-10-11     10   11        1      0         0          0    3491586.0   \n",
              "..          ...    ...  ...      ...    ...       ...        ...          ...   \n",
              "501  2022-04-14      4   14        0      0         0          1    1076040.0   \n",
              "502  2022-04-19      4   19        0      0         0          1    2586586.0   \n",
              "503  2022-04-20      4   20        0      0         0          1    2102808.0   \n",
              "504  2022-04-21      4   21        0      0         0          1    2323610.0   \n",
              "505  2022-04-22      4   22        0      0         0          1    2444054.0   \n",
              "\n",
              "          20K+      30K+  ...  OSTCRÈME  SKAGEN  NASI  GORENG  RISOTTO  \\\n",
              "0      23085.0       0.0  ...         0       0     0       0        0   \n",
              "1     109476.0   24926.0  ...         0       0     0       0        0   \n",
              "2      48050.0    6396.0  ...         0       0     0       0        0   \n",
              "3     749119.0  375674.0  ...         0       0     0       0        0   \n",
              "4    1615107.0  969670.0  ...         0       0     0       0        0   \n",
              "..         ...       ...  ...       ...     ...   ...     ...      ...   \n",
              "501   421440.0  205410.0  ...         0       0     0       0        0   \n",
              "502  1217048.0  747644.0  ...         0       0     0       0        0   \n",
              "503   785758.0  362714.0  ...         0       0     0       0        0   \n",
              "504  1001642.0  581386.0  ...         0       0     0       0        0   \n",
              "505   996288.0  518184.0  ...         0       0     0       0        0   \n",
              "\n",
              "     MOUSSAKA  INDISKA  OLIVER  SALLADSOST  LINSFÄRSLIMPA  \n",
              "0           0        0       0           0              0  \n",
              "1           0        0       0           0              0  \n",
              "2           0        0       0           0              0  \n",
              "3           0        0       0           0              0  \n",
              "4           0        0       0           0              0  \n",
              "..        ...      ...     ...         ...            ...  \n",
              "501         0        0       0           0              0  \n",
              "502         0        0       0           0              0  \n",
              "503         0        0       0           0              0  \n",
              "504         0        0       1           1              0  \n",
              "505         0        0       0           0              1  \n",
              "\n",
              "[506 rows x 187 columns]"
            ],
            "text/html": [
              "\n",
              "  <div id=\"df-f530cd27-39be-4fdd-9f2a-4cb4bdd41a40\">\n",
              "    <div class=\"colab-df-container\">\n",
              "      <div>\n",
              "<style scoped>\n",
              "    .dataframe tbody tr th:only-of-type {\n",
              "        vertical-align: middle;\n",
              "    }\n",
              "\n",
              "    .dataframe tbody tr th {\n",
              "        vertical-align: top;\n",
              "    }\n",
              "\n",
              "    .dataframe thead th {\n",
              "        text-align: right;\n",
              "    }\n",
              "</style>\n",
              "<table border=\"1\" class=\"dataframe\">\n",
              "  <thead>\n",
              "    <tr style=\"text-align: right;\">\n",
              "      <th></th>\n",
              "      <th>Date</th>\n",
              "      <th>Month</th>\n",
              "      <th>Day</th>\n",
              "      <th>Central</th>\n",
              "      <th>Domar</th>\n",
              "      <th>Ärentuna</th>\n",
              "      <th>Stenhagen</th>\n",
              "      <th>Total Power</th>\n",
              "      <th>20K+</th>\n",
              "      <th>30K+</th>\n",
              "      <th>...</th>\n",
              "      <th>OSTCRÈME</th>\n",
              "      <th>SKAGEN</th>\n",
              "      <th>NASI</th>\n",
              "      <th>GORENG</th>\n",
              "      <th>RISOTTO</th>\n",
              "      <th>MOUSSAKA</th>\n",
              "      <th>INDISKA</th>\n",
              "      <th>OLIVER</th>\n",
              "      <th>SALLADSOST</th>\n",
              "      <th>LINSFÄRSLIMPA</th>\n",
              "    </tr>\n",
              "  </thead>\n",
              "  <tbody>\n",
              "    <tr>\n",
              "      <th>0</th>\n",
              "      <td>2021-10-05</td>\n",
              "      <td>10</td>\n",
              "      <td>5</td>\n",
              "      <td>1</td>\n",
              "      <td>0</td>\n",
              "      <td>0</td>\n",
              "      <td>0</td>\n",
              "      <td>1193843.0</td>\n",
              "      <td>23085.0</td>\n",
              "      <td>0.0</td>\n",
              "      <td>...</td>\n",
              "      <td>0</td>\n",
              "      <td>0</td>\n",
              "      <td>0</td>\n",
              "      <td>0</td>\n",
              "      <td>0</td>\n",
              "      <td>0</td>\n",
              "      <td>0</td>\n",
              "      <td>0</td>\n",
              "      <td>0</td>\n",
              "      <td>0</td>\n",
              "    </tr>\n",
              "    <tr>\n",
              "      <th>1</th>\n",
              "      <td>2021-10-06</td>\n",
              "      <td>10</td>\n",
              "      <td>6</td>\n",
              "      <td>1</td>\n",
              "      <td>0</td>\n",
              "      <td>0</td>\n",
              "      <td>0</td>\n",
              "      <td>1438341.0</td>\n",
              "      <td>109476.0</td>\n",
              "      <td>24926.0</td>\n",
              "      <td>...</td>\n",
              "      <td>0</td>\n",
              "      <td>0</td>\n",
              "      <td>0</td>\n",
              "      <td>0</td>\n",
              "      <td>0</td>\n",
              "      <td>0</td>\n",
              "      <td>0</td>\n",
              "      <td>0</td>\n",
              "      <td>0</td>\n",
              "      <td>0</td>\n",
              "    </tr>\n",
              "    <tr>\n",
              "      <th>2</th>\n",
              "      <td>2021-10-07</td>\n",
              "      <td>10</td>\n",
              "      <td>7</td>\n",
              "      <td>1</td>\n",
              "      <td>0</td>\n",
              "      <td>0</td>\n",
              "      <td>0</td>\n",
              "      <td>1346118.0</td>\n",
              "      <td>48050.0</td>\n",
              "      <td>6396.0</td>\n",
              "      <td>...</td>\n",
              "      <td>0</td>\n",
              "      <td>0</td>\n",
              "      <td>0</td>\n",
              "      <td>0</td>\n",
              "      <td>0</td>\n",
              "      <td>0</td>\n",
              "      <td>0</td>\n",
              "      <td>0</td>\n",
              "      <td>0</td>\n",
              "      <td>0</td>\n",
              "    </tr>\n",
              "    <tr>\n",
              "      <th>3</th>\n",
              "      <td>2021-10-08</td>\n",
              "      <td>10</td>\n",
              "      <td>8</td>\n",
              "      <td>1</td>\n",
              "      <td>0</td>\n",
              "      <td>0</td>\n",
              "      <td>0</td>\n",
              "      <td>2272796.0</td>\n",
              "      <td>749119.0</td>\n",
              "      <td>375674.0</td>\n",
              "      <td>...</td>\n",
              "      <td>0</td>\n",
              "      <td>0</td>\n",
              "      <td>0</td>\n",
              "      <td>0</td>\n",
              "      <td>0</td>\n",
              "      <td>0</td>\n",
              "      <td>0</td>\n",
              "      <td>0</td>\n",
              "      <td>0</td>\n",
              "      <td>0</td>\n",
              "    </tr>\n",
              "    <tr>\n",
              "      <th>4</th>\n",
              "      <td>2021-10-11</td>\n",
              "      <td>10</td>\n",
              "      <td>11</td>\n",
              "      <td>1</td>\n",
              "      <td>0</td>\n",
              "      <td>0</td>\n",
              "      <td>0</td>\n",
              "      <td>3491586.0</td>\n",
              "      <td>1615107.0</td>\n",
              "      <td>969670.0</td>\n",
              "      <td>...</td>\n",
              "      <td>0</td>\n",
              "      <td>0</td>\n",
              "      <td>0</td>\n",
              "      <td>0</td>\n",
              "      <td>0</td>\n",
              "      <td>0</td>\n",
              "      <td>0</td>\n",
              "      <td>0</td>\n",
              "      <td>0</td>\n",
              "      <td>0</td>\n",
              "    </tr>\n",
              "    <tr>\n",
              "      <th>...</th>\n",
              "      <td>...</td>\n",
              "      <td>...</td>\n",
              "      <td>...</td>\n",
              "      <td>...</td>\n",
              "      <td>...</td>\n",
              "      <td>...</td>\n",
              "      <td>...</td>\n",
              "      <td>...</td>\n",
              "      <td>...</td>\n",
              "      <td>...</td>\n",
              "      <td>...</td>\n",
              "      <td>...</td>\n",
              "      <td>...</td>\n",
              "      <td>...</td>\n",
              "      <td>...</td>\n",
              "      <td>...</td>\n",
              "      <td>...</td>\n",
              "      <td>...</td>\n",
              "      <td>...</td>\n",
              "      <td>...</td>\n",
              "      <td>...</td>\n",
              "    </tr>\n",
              "    <tr>\n",
              "      <th>501</th>\n",
              "      <td>2022-04-14</td>\n",
              "      <td>4</td>\n",
              "      <td>14</td>\n",
              "      <td>0</td>\n",
              "      <td>0</td>\n",
              "      <td>0</td>\n",
              "      <td>1</td>\n",
              "      <td>1076040.0</td>\n",
              "      <td>421440.0</td>\n",
              "      <td>205410.0</td>\n",
              "      <td>...</td>\n",
              "      <td>0</td>\n",
              "      <td>0</td>\n",
              "      <td>0</td>\n",
              "      <td>0</td>\n",
              "      <td>0</td>\n",
              "      <td>0</td>\n",
              "      <td>0</td>\n",
              "      <td>0</td>\n",
              "      <td>0</td>\n",
              "      <td>0</td>\n",
              "    </tr>\n",
              "    <tr>\n",
              "      <th>502</th>\n",
              "      <td>2022-04-19</td>\n",
              "      <td>4</td>\n",
              "      <td>19</td>\n",
              "      <td>0</td>\n",
              "      <td>0</td>\n",
              "      <td>0</td>\n",
              "      <td>1</td>\n",
              "      <td>2586586.0</td>\n",
              "      <td>1217048.0</td>\n",
              "      <td>747644.0</td>\n",
              "      <td>...</td>\n",
              "      <td>0</td>\n",
              "      <td>0</td>\n",
              "      <td>0</td>\n",
              "      <td>0</td>\n",
              "      <td>0</td>\n",
              "      <td>0</td>\n",
              "      <td>0</td>\n",
              "      <td>0</td>\n",
              "      <td>0</td>\n",
              "      <td>0</td>\n",
              "    </tr>\n",
              "    <tr>\n",
              "      <th>503</th>\n",
              "      <td>2022-04-20</td>\n",
              "      <td>4</td>\n",
              "      <td>20</td>\n",
              "      <td>0</td>\n",
              "      <td>0</td>\n",
              "      <td>0</td>\n",
              "      <td>1</td>\n",
              "      <td>2102808.0</td>\n",
              "      <td>785758.0</td>\n",
              "      <td>362714.0</td>\n",
              "      <td>...</td>\n",
              "      <td>0</td>\n",
              "      <td>0</td>\n",
              "      <td>0</td>\n",
              "      <td>0</td>\n",
              "      <td>0</td>\n",
              "      <td>0</td>\n",
              "      <td>0</td>\n",
              "      <td>0</td>\n",
              "      <td>0</td>\n",
              "      <td>0</td>\n",
              "    </tr>\n",
              "    <tr>\n",
              "      <th>504</th>\n",
              "      <td>2022-04-21</td>\n",
              "      <td>4</td>\n",
              "      <td>21</td>\n",
              "      <td>0</td>\n",
              "      <td>0</td>\n",
              "      <td>0</td>\n",
              "      <td>1</td>\n",
              "      <td>2323610.0</td>\n",
              "      <td>1001642.0</td>\n",
              "      <td>581386.0</td>\n",
              "      <td>...</td>\n",
              "      <td>0</td>\n",
              "      <td>0</td>\n",
              "      <td>0</td>\n",
              "      <td>0</td>\n",
              "      <td>0</td>\n",
              "      <td>0</td>\n",
              "      <td>0</td>\n",
              "      <td>1</td>\n",
              "      <td>1</td>\n",
              "      <td>0</td>\n",
              "    </tr>\n",
              "    <tr>\n",
              "      <th>505</th>\n",
              "      <td>2022-04-22</td>\n",
              "      <td>4</td>\n",
              "      <td>22</td>\n",
              "      <td>0</td>\n",
              "      <td>0</td>\n",
              "      <td>0</td>\n",
              "      <td>1</td>\n",
              "      <td>2444054.0</td>\n",
              "      <td>996288.0</td>\n",
              "      <td>518184.0</td>\n",
              "      <td>...</td>\n",
              "      <td>0</td>\n",
              "      <td>0</td>\n",
              "      <td>0</td>\n",
              "      <td>0</td>\n",
              "      <td>0</td>\n",
              "      <td>0</td>\n",
              "      <td>0</td>\n",
              "      <td>0</td>\n",
              "      <td>0</td>\n",
              "      <td>1</td>\n",
              "    </tr>\n",
              "  </tbody>\n",
              "</table>\n",
              "<p>506 rows × 187 columns</p>\n",
              "</div>\n",
              "      <button class=\"colab-df-convert\" onclick=\"convertToInteractive('df-f530cd27-39be-4fdd-9f2a-4cb4bdd41a40')\"\n",
              "              title=\"Convert this dataframe to an interactive table.\"\n",
              "              style=\"display:none;\">\n",
              "        \n",
              "  <svg xmlns=\"http://www.w3.org/2000/svg\" height=\"24px\"viewBox=\"0 0 24 24\"\n",
              "       width=\"24px\">\n",
              "    <path d=\"M0 0h24v24H0V0z\" fill=\"none\"/>\n",
              "    <path d=\"M18.56 5.44l.94 2.06.94-2.06 2.06-.94-2.06-.94-.94-2.06-.94 2.06-2.06.94zm-11 1L8.5 8.5l.94-2.06 2.06-.94-2.06-.94L8.5 2.5l-.94 2.06-2.06.94zm10 10l.94 2.06.94-2.06 2.06-.94-2.06-.94-.94-2.06-.94 2.06-2.06.94z\"/><path d=\"M17.41 7.96l-1.37-1.37c-.4-.4-.92-.59-1.43-.59-.52 0-1.04.2-1.43.59L10.3 9.45l-7.72 7.72c-.78.78-.78 2.05 0 2.83L4 21.41c.39.39.9.59 1.41.59.51 0 1.02-.2 1.41-.59l7.78-7.78 2.81-2.81c.8-.78.8-2.07 0-2.86zM5.41 20L4 18.59l7.72-7.72 1.47 1.35L5.41 20z\"/>\n",
              "  </svg>\n",
              "      </button>\n",
              "      \n",
              "  <style>\n",
              "    .colab-df-container {\n",
              "      display:flex;\n",
              "      flex-wrap:wrap;\n",
              "      gap: 12px;\n",
              "    }\n",
              "\n",
              "    .colab-df-convert {\n",
              "      background-color: #E8F0FE;\n",
              "      border: none;\n",
              "      border-radius: 50%;\n",
              "      cursor: pointer;\n",
              "      display: none;\n",
              "      fill: #1967D2;\n",
              "      height: 32px;\n",
              "      padding: 0 0 0 0;\n",
              "      width: 32px;\n",
              "    }\n",
              "\n",
              "    .colab-df-convert:hover {\n",
              "      background-color: #E2EBFA;\n",
              "      box-shadow: 0px 1px 2px rgba(60, 64, 67, 0.3), 0px 1px 3px 1px rgba(60, 64, 67, 0.15);\n",
              "      fill: #174EA6;\n",
              "    }\n",
              "\n",
              "    [theme=dark] .colab-df-convert {\n",
              "      background-color: #3B4455;\n",
              "      fill: #D2E3FC;\n",
              "    }\n",
              "\n",
              "    [theme=dark] .colab-df-convert:hover {\n",
              "      background-color: #434B5C;\n",
              "      box-shadow: 0px 1px 3px 1px rgba(0, 0, 0, 0.15);\n",
              "      filter: drop-shadow(0px 1px 2px rgba(0, 0, 0, 0.3));\n",
              "      fill: #FFFFFF;\n",
              "    }\n",
              "  </style>\n",
              "\n",
              "      <script>\n",
              "        const buttonEl =\n",
              "          document.querySelector('#df-f530cd27-39be-4fdd-9f2a-4cb4bdd41a40 button.colab-df-convert');\n",
              "        buttonEl.style.display =\n",
              "          google.colab.kernel.accessAllowed ? 'block' : 'none';\n",
              "\n",
              "        async function convertToInteractive(key) {\n",
              "          const element = document.querySelector('#df-f530cd27-39be-4fdd-9f2a-4cb4bdd41a40');\n",
              "          const dataTable =\n",
              "            await google.colab.kernel.invokeFunction('convertToInteractive',\n",
              "                                                     [key], {});\n",
              "          if (!dataTable) return;\n",
              "\n",
              "          const docLinkHtml = 'Like what you see? Visit the ' +\n",
              "            '<a target=\"_blank\" href=https://colab.research.google.com/notebooks/data_table.ipynb>data table notebook</a>'\n",
              "            + ' to learn more about interactive tables.';\n",
              "          element.innerHTML = '';\n",
              "          dataTable['output_type'] = 'display_data';\n",
              "          await google.colab.output.renderOutput(dataTable, element);\n",
              "          const docLink = document.createElement('div');\n",
              "          docLink.innerHTML = docLinkHtml;\n",
              "          element.appendChild(docLink);\n",
              "        }\n",
              "      </script>\n",
              "    </div>\n",
              "  </div>\n",
              "  "
            ]
          },
          "metadata": {},
          "execution_count": 5
        }
      ]
    },
    {
      "cell_type": "code",
      "source": [
        "plt.plot(data2['50K+'],'r')\n",
        "plt.plot(data2['Total Power'])"
      ],
      "metadata": {
        "colab": {
          "base_uri": "https://localhost:8080/",
          "height": 296
        },
        "id": "ubiKWDubZkdq",
        "outputId": "a2f449f8-07cc-4ac7-b653-7e979b70b4d5"
      },
      "execution_count": null,
      "outputs": [
        {
          "output_type": "execute_result",
          "data": {
            "text/plain": [
              "[<matplotlib.lines.Line2D at 0x7f050f94ee50>]"
            ]
          },
          "metadata": {},
          "execution_count": 6
        },
        {
          "output_type": "display_data",
          "data": {
            "text/plain": [
              "<Figure size 432x288 with 1 Axes>"
            ],
            "image/png": "[encoded data removed]"
          },
          "metadata": {
            "needs_background": "light"
          }
        }
      ]
    },
    {
      "cell_type": "code",
      "source": [
        "X = data2[data2['Stenhagen'] == 1].drop(['Date','Datum','Grönt','Rätt','Extra','Month','Day','Total Power','100K+','90K+','80K+','70K+','60K+','50K+','40K+','30K+','20K+'], axis=1)\n",
        "y = data2[data2['Stenhagen'] == 1]['60K+']"
      ],
      "metadata": {
        "id": "ztHNnrb2bAxu"
      },
      "execution_count": null,
      "outputs": []
    },
    {
      "cell_type": "code",
      "source": [
        "X_train, X_test, y_train, y_test = train_test_split(X, y, test_size=0.25, random_state=13)"
      ],
      "metadata": {
        "id": "-BwZgmGzaO6u"
      },
      "execution_count": null,
      "outputs": []
    },
    {
      "cell_type": "markdown",
      "source": [
        "Model"
      ],
      "metadata": {
        "id": "RcleZ2uwlXDW"
      }
    },
    {
      "cell_type": "code",
      "source": [
        "model = KNeighborsRegressor()\n",
        "model.fit(X_train,y_train)"
      ],
      "metadata": {
        "colab": {
          "base_uri": "https://localhost:8080/"
        },
        "id": "sj3d3k-bmfI5",
        "outputId": "e84d1a8b-8c1f-4bdb-d7ee-2abcd1ac45d0"
      },
      "execution_count": null,
      "outputs": [
        {
          "output_type": "execute_result",
          "data": {
            "text/plain": [
              "KNeighborsRegressor()"
            ]
          },
          "metadata": {},
          "execution_count": 9
        }
      ]
    },
    {
      "cell_type": "code",
      "source": [
        "model = LGBMRegressor(random_state=0)\n",
        "model.fit(X_train,y_train)"
      ],
      "metadata": {
        "colab": {
          "base_uri": "https://localhost:8080/"
        },
        "id": "Pcp2QJxvmB-E",
        "outputId": "4d1254c0-c45d-4108-a368-5a2a4bcc955d"
      },
      "execution_count": null,
      "outputs": [
        {
          "output_type": "execute_result",
          "data": {
            "text/plain": [
              "LGBMRegressor(random_state=0)"
            ]
          },
          "metadata": {},
          "execution_count": 10
        }
      ]
    },
    {
      "cell_type": "code",
      "source": [
        "model = XGBRegressor(random_state = 0)\n",
        "model.fit(X_train,y_train)"
      ],
      "metadata": {
        "colab": {
          "base_uri": "https://localhost:8080/"
        },
        "id": "wt-fnbu3lp4Y",
        "outputId": "13e14a01-9394-4bf7-d0db-6a5095ee72e9"
      },
      "execution_count": null,
      "outputs": [
        {
          "output_type": "stream",
          "name": "stdout",
          "text": [
            "[19:15:08] WARNING: /workspace/src/objective/regression_obj.cu:152: reg:linear is now deprecated in favor of reg:squarederror.\n"
          ]
        },
        {
          "output_type": "execute_result",
          "data": {
            "text/plain": [
              "XGBRegressor()"
            ]
          },
          "metadata": {},
          "execution_count": 11
        }
      ]
    },
    {
      "cell_type": "code",
      "source": [
        "model = KernelRidge()\n",
        "model.fit(X_train,y_train)"
      ],
      "metadata": {
        "colab": {
          "base_uri": "https://localhost:8080/"
        },
        "id": "oXDUq05clZs7",
        "outputId": "553f9c7a-b416-431b-afee-e9bb60e47064"
      },
      "execution_count": null,
      "outputs": [
        {
          "output_type": "execute_result",
          "data": {
            "text/plain": [
              "KernelRidge()"
            ]
          },
          "metadata": {},
          "execution_count": 12
        }
      ]
    },
    {
      "cell_type": "code",
      "source": [
        "#model = CatBoostRegressor()\n",
        "#model.fit(X_train,y_train)"
      ],
      "metadata": {
        "id": "DVGfMcWFlWQ-"
      },
      "execution_count": null,
      "outputs": []
    },
    {
      "cell_type": "code",
      "source": [
        "model = CatBoostRegressor()\n",
        "model.fit(X_train,y_train)"
      ],
      "metadata": {
        "id": "NOKusLI8k1mV",
        "colab": {
          "base_uri": "https://localhost:8080/",
          "height": 183
        },
        "outputId": "f52368ca-6df3-4f87-febc-2b8006a370bd"
      },
      "execution_count": null,
      "outputs": [
        {
          "output_type": "error",
          "ename": "NameError",
          "evalue": "ignored",
          "traceback": [
            "\u001b[0;31m---------------------------------------------------------------------------\u001b[0m",
            "\u001b[0;31mNameError\u001b[0m                                 Traceback (most recent call last)",
            "\u001b[0;32m<ipython-input-14-a41582af255d>\u001b[0m in \u001b[0;36m<module>\u001b[0;34m()\u001b[0m\n\u001b[0;32m----> 1\u001b[0;31m \u001b[0mmodel\u001b[0m \u001b[0;34m=\u001b[0m \u001b[0mCatBoostRegressor\u001b[0m\u001b[0;34m(\u001b[0m\u001b[0;34m)\u001b[0m\u001b[0;34m\u001b[0m\u001b[0;34m\u001b[0m\u001b[0m\n\u001b[0m\u001b[1;32m      2\u001b[0m \u001b[0mmodel\u001b[0m\u001b[0;34m.\u001b[0m\u001b[0mfit\u001b[0m\u001b[0;34m(\u001b[0m\u001b[0mX_train\u001b[0m\u001b[0;34m,\u001b[0m\u001b[0my_train\u001b[0m\u001b[0;34m)\u001b[0m\u001b[0;34m\u001b[0m\u001b[0;34m\u001b[0m\u001b[0m\n",
            "\u001b[0;31mNameError\u001b[0m: name 'CatBoostRegressor' is not defined"
          ]
        }
      ]
    },
    {
      "cell_type": "code",
      "source": [
        "model = BayesianRidge()\n",
        "model.fit(X_train,y_train)"
      ],
      "metadata": {
        "id": "3WMoJnNxkiCt"
      },
      "execution_count": null,
      "outputs": []
    },
    {
      "cell_type": "code",
      "source": [
        "model = SVR()\n",
        "model.fit(X_train,y_train)"
      ],
      "metadata": {
        "id": "kqBJxLOdkDHp"
      },
      "execution_count": null,
      "outputs": []
    },
    {
      "cell_type": "code",
      "source": [
        "model = SGDRegressor(random_state=0)\n",
        "model.fit(X_train,y_train)"
      ],
      "metadata": {
        "id": "z2ks4_trjdn9"
      },
      "execution_count": null,
      "outputs": []
    },
    {
      "cell_type": "code",
      "source": [
        "model = ElasticNet(random_state=0)\n",
        "model.fit(X_train,y_train)"
      ],
      "metadata": {
        "id": "UAe2thrvjF93"
      },
      "execution_count": null,
      "outputs": []
    },
    {
      "cell_type": "code",
      "source": [
        "model = GradientBoostingRegressor()\n",
        "model.fit(X_train,y_train)"
      ],
      "metadata": {
        "id": "XWh20uGYgDWS"
      },
      "execution_count": null,
      "outputs": []
    },
    {
      "cell_type": "code",
      "source": [
        "model = RandomForestRegressor(random_state = 13)\n",
        "model.fit(X_train,y_train)"
      ],
      "metadata": {
        "id": "KYHqszPcbgp8"
      },
      "execution_count": null,
      "outputs": []
    },
    {
      "cell_type": "markdown",
      "source": [
        "Prediction"
      ],
      "metadata": {
        "id": "EiiDnGu1lGVY"
      }
    },
    {
      "cell_type": "code",
      "source": [
        "prediction = model.predict(X_test)"
      ],
      "metadata": {
        "id": "_C-2vDbfbwcm"
      },
      "execution_count": null,
      "outputs": []
    },
    {
      "cell_type": "code",
      "source": [
        "MSE = mean_squared_error(y_test, prediction)/(10**12)\n",
        "MSE = \"%.2f\" % MSE"
      ],
      "metadata": {
        "id": "2laF7sp_hTDg"
      },
      "execution_count": null,
      "outputs": []
    },
    {
      "cell_type": "code",
      "source": [
        "method = 'RF Regressor'\n",
        "plt.plot(y_test[:50].reset_index(drop=True))\n",
        "plt.plot(prediction[:50],'r')\n",
        "plt.title('full power daily prediction ' + str(method))\n",
        "plt.legend(['Actual', 'Prediction'])\n",
        "plt.xlabel('MSE = ' + str(MSE))\n",
        "print('MAE = ' + str(mean_absolute_error(y_test, prediction)/(10**6)))"
      ],
      "metadata": {
        "id": "fFxFsHkib5qJ"
      },
      "execution_count": null,
      "outputs": []
    },
    {
      "cell_type": "code",
      "source": [
        "error = (y_test.reset_index(drop=True) - prediction)*5/(60*10**3)\n",
        "plt.plot(error)"
      ],
      "metadata": {
        "id": "_R0uTGHnHym3"
      },
      "execution_count": null,
      "outputs": []
    },
    {
      "cell_type": "code",
      "source": [
        "from sklearn.model_selection import ParameterGrid\n",
        "randomgrid = {\n",
        "    'criterion': ['squared_error', 'absolute_error', 'poisson'],\n",
        "    'max_depth': ['None',1,2,3],\n",
        "    'min_samples_split': [2,3,4,5],\n",
        "    'random_state': [13]}\n",
        "\n",
        "pg = ParameterGrid(randomgrid)\n",
        "len(pg)*3/60"
      ],
      "metadata": {
        "id": "v2xnlN9C654w"
      },
      "execution_count": null,
      "outputs": []
    },
    {
      "cell_type": "markdown",
      "source": [
        "**Gradient Boosting Tuning**"
      ],
      "metadata": {
        "id": "qh87t2nApDp_"
      }
    },
    {
      "cell_type": "code",
      "source": [
        "#HYPERPARAMETER TUNING#\n",
        "\n",
        "#Gradient Boosting#\n",
        "randomgrid = {\n",
        "    'loss': ['squared_error', 'absolute_error', 'huber', 'quantile'],\n",
        "    'learning_rate': [0.05, 0.1, 0.3, 0.4],\n",
        "    'criterion': ['friedman_mse', 'squared_error'],\n",
        "    'min_samples_split': [2,3,4],\n",
        "    'min_samples_leaf': [1,2,3],\n",
        "    'max_depth': [2,3],\n",
        "    'random_state': [13]}\n",
        "\n",
        "model = GradientBoostingRegressor()\n",
        "rf_random = skl_ms.GridSearchCV(estimator=model , param_grid=randomgrid,\n",
        "                                cv=5, verbose = 10, scoring = 'neg_mean_absolute_error')\n",
        "rf_random.fit(X , y)"
      ],
      "metadata": {
        "id": "aucSDi3kpCnZ"
      },
      "execution_count": null,
      "outputs": []
    },
    {
      "cell_type": "code",
      "source": [
        "print(f'Best set of hyperparameters are: {rf_random.best_params_}')"
      ],
      "metadata": {
        "id": "OcLOAofx9or1"
      },
      "execution_count": null,
      "outputs": []
    },
    {
      "cell_type": "code",
      "source": [
        "X_test[X_test['Stenhagen'] == 1].index"
      ],
      "metadata": {
        "id": "ltYGCefFjXJu"
      },
      "execution_count": null,
      "outputs": []
    },
    {
      "cell_type": "code",
      "source": [
        "y_test[X_test[X_test['Stenhagen'] == 1].index]"
      ],
      "metadata": {
        "id": "m5bBuAkXjp1w"
      },
      "execution_count": null,
      "outputs": []
    },
    {
      "cell_type": "code",
      "source": [
        "model = GradientBoostingRegressor(criterion='friedman_mse', learning_rate= 0.2, loss= 'absolute_error', max_depth=3, min_samples_leaf=2, min_samples_split=2, random_state=13)\n",
        "model.fit(X_train,y_train)\n",
        "prediction = model.predict(X_test)\n",
        "MSE = mean_squared_error(y_test, prediction)/(10**12)\n",
        "MSE = \"%.2f\" % MSE\n",
        "method = 'GB tuned'\n",
        "plt.plot(y_test.reset_index(drop=True)*5/60)\n",
        "plt.plot(prediction*5/60,'r')\n",
        "plt.title('full power daily prediction ' + str(method))\n",
        "plt.legend(['Actual', 'Prediction'])\n",
        "plt.xlabel('MSE = ' + str(MSE))\n",
        "print('MAE = ' + str(mean_absolute_error(y_test, prediction)/(10**6)))"
      ],
      "metadata": {
        "id": "RIcECWkI9nNC",
        "colab": {
          "base_uri": "https://localhost:8080/",
          "height": 318
        },
        "outputId": "71837b17-f101-413f-eff6-1b1d1e328eed"
      },
      "execution_count": null,
      "outputs": [
        {
          "output_type": "stream",
          "name": "stdout",
          "text": [
            "MAE = 0.02969901407532877\n"
          ]
        },
        {
          "output_type": "display_data",
          "data": {
            "text/plain": [
              "<Figure size 432x288 with 1 Axes>"
            ],
            "image/png": "[encoded data removed]"
          },
          "metadata": {}
        }
      ]
    },
    {
      "cell_type": "code",
      "source": [
        "error = (y_test.reset_index(drop=True)-prediction)*5/(60*1000)\n",
        "plt.plot(error)"
      ],
      "metadata": {
        "colab": {
          "base_uri": "https://localhost:8080/",
          "height": 285
        },
        "id": "y0UcBTuXanMB",
        "outputId": "b0edba67-a2e7-4852-aca2-38909e9679a8"
      },
      "execution_count": null,
      "outputs": [
        {
          "output_type": "execute_result",
          "data": {
            "text/plain": [
              "[<matplotlib.lines.Line2D at 0x7f0508e84910>]"
            ]
          },
          "metadata": {},
          "execution_count": 44
        },
        {
          "output_type": "display_data",
          "data": {
            "text/plain": [
              "<Figure size 432x288 with 1 Axes>"
            ],
            "image/png": "[encoded data removed]"
          },
          "metadata": {}
        }
      ]
    },
    {
      "cell_type": "code",
      "source": [
        "plt.plot(data2['100K+'])"
      ],
      "metadata": {
        "id": "Y9FFYQR2exeD"
      },
      "execution_count": null,
      "outputs": []
    },
    {
      "cell_type": "code",
      "source": [
        "plt.plot(data2[data2['Central'] == 1]['70K+']*5/(60*1000))"
      ],
      "metadata": {
        "colab": {
          "base_uri": "https://localhost:8080/",
          "height": 285
        },
        "id": "46P7xqDxfUv8",
        "outputId": "7356d81e-5c04-4ddf-ef7a-547a8ea11728"
      },
      "execution_count": null,
      "outputs": [
        {
          "output_type": "execute_result",
          "data": {
            "text/plain": [
              "[<matplotlib.lines.Line2D at 0x7f0509213750>]"
            ]
          },
          "metadata": {},
          "execution_count": 28
        },
        {
          "output_type": "display_data",
          "data": {
            "text/plain": [
              "<Figure size 432x288 with 1 Axes>"
            ],
            "image/png": "[encoded data removed]"
          },
          "metadata": {}
        }
      ]
    },
    {
      "cell_type": "code",
      "source": [
        "plt.plot(data2[data2['Domar'] == 1]['100K+']*5/(60*1000))"
      ],
      "metadata": {
        "colab": {
          "base_uri": "https://localhost:8080/",
          "height": 285
        },
        "id": "en4BsFB1A8Uu",
        "outputId": "ba65b73f-5203-4870-e305-d69553fef5cc"
      },
      "execution_count": null,
      "outputs": [
        {
          "output_type": "execute_result",
          "data": {
            "text/plain": [
              "[<matplotlib.lines.Line2D at 0x7f05090d9950>]"
            ]
          },
          "metadata": {},
          "execution_count": 31
        },
        {
          "output_type": "display_data",
          "data": {
            "text/plain": [
              "<Figure size 432x288 with 1 Axes>"
            ],
            "image/png": "[encoded data removed]"
          },
          "metadata": {}
        }
      ]
    },
    {
      "cell_type": "code",
      "source": [
        "plt.plot(data2[data2['Ärentuna'] == 1]['100K+']*5/(60*1000))"
      ],
      "metadata": {
        "colab": {
          "base_uri": "https://localhost:8080/",
          "height": 285
        },
        "id": "6x5DafTvg7sA",
        "outputId": "694299d6-0c3d-45a5-c606-c7274168ec25"
      },
      "execution_count": null,
      "outputs": [
        {
          "output_type": "execute_result",
          "data": {
            "text/plain": [
              "[<matplotlib.lines.Line2D at 0x7f05092aaa10>]"
            ]
          },
          "metadata": {},
          "execution_count": 27
        },
        {
          "output_type": "display_data",
          "data": {
            "text/plain": [
              "<Figure size 432x288 with 1 Axes>"
            ],
            "image/png": "[encoded data removed]"
          },
          "metadata": {}
        }
      ]
    },
    {
      "cell_type": "code",
      "source": [
        "plt.plot(data2[data2['Stenhagen'] == 1]['60K+']*5/(60*1000))"
      ],
      "metadata": {
        "colab": {
          "base_uri": "https://localhost:8080/",
          "height": 285
        },
        "id": "qo9dbCxZg-Gd",
        "outputId": "71edef1d-f6f9-4e09-8d2e-2eed45b2cc4f"
      },
      "execution_count": null,
      "outputs": [
        {
          "output_type": "execute_result",
          "data": {
            "text/plain": [
              "[<matplotlib.lines.Line2D at 0x7f0509014210>]"
            ]
          },
          "metadata": {},
          "execution_count": 37
        },
        {
          "output_type": "display_data",
          "data": {
            "text/plain": [
              "<Figure size 432x288 with 1 Axes>"
            ],
            "image/png": "[encoded data removed]"
          },
          "metadata": {}
        }
      ]
    },
    {
      "cell_type": "code",
      "source": [
        "percent_error = (prediction/(y_test.reset_index(drop=True)) - 1)*100\n",
        "# Replacing infinite with nan\n",
        "percent_error.replace([np.inf, -np.inf], np.nan, inplace=True)\n",
        "  \n",
        "# Dropping all the rows with nan values\n",
        "percent_error.dropna(inplace=True)\n",
        "percent_error.drop([57], axis=0, inplace=True)\n",
        "plt.plot(percent_error)"
      ],
      "metadata": {
        "id": "sscmcHc0XaR3"
      },
      "execution_count": null,
      "outputs": []
    },
    {
      "cell_type": "code",
      "source": [
        "percent_error[57]"
      ],
      "metadata": {
        "id": "2GHZTnSzX5am"
      },
      "execution_count": null,
      "outputs": []
    },
    {
      "cell_type": "code",
      "source": [
        "y_test.reset_index(drop=True)[11]"
      ],
      "metadata": {
        "id": "5u5oyiiPYiiy"
      },
      "execution_count": null,
      "outputs": []
    },
    {
      "cell_type": "code",
      "source": [
        "prediction[11]"
      ],
      "metadata": {
        "id": "OWNERqd-YgC5"
      },
      "execution_count": null,
      "outputs": []
    },
    {
      "cell_type": "markdown",
      "source": [
        "**XGBoost Tuning**"
      ],
      "metadata": {
        "id": "7X287MDn_GKH"
      }
    },
    {
      "cell_type": "code",
      "source": [
        "#HYPERPARAMETER TUNING#\n",
        "\n",
        "#Gradient Boosting#\n",
        "randomgrid = {\n",
        "    'booster': ['gbtree', 'dart'],\n",
        "    'eta': [0.05, 0.1, 0.3, 0.4],\n",
        "    'max_leaf_nodes': [2,3,4,5,6],\n",
        "    'random_state': [13]}\n",
        "\n",
        "model = XGBRegressor()\n",
        "rf_random = skl_ms.GridSearchCV(estimator=model , param_grid=randomgrid,\n",
        "                                cv=5, verbose = 10)\n",
        "rf_random.fit(X , y)"
      ],
      "metadata": {
        "id": "ITFkq66L_Nfn"
      },
      "execution_count": null,
      "outputs": []
    },
    {
      "cell_type": "code",
      "source": [
        "print(f'Best set of hyperparameters are: {rf_random.best_params_}')"
      ],
      "metadata": {
        "id": "oO-9BtFbE0mx"
      },
      "execution_count": null,
      "outputs": []
    },
    {
      "cell_type": "code",
      "source": [
        "model = XGBRegressor(booster = 'gbtree', eta = 0.05, max_leaf_nodes = 2, random_state = 13)\n",
        "model.fit(X_train,y_train)\n",
        "prediction = model.predict(X_test)\n",
        "MSE = mean_squared_error(y_test, prediction)/(10**12)\n",
        "MSE = \"%.2f\" % MSE\n",
        "method = 'XGB tuned'\n",
        "plt.plot(y_test.reset_index(drop=True))\n",
        "plt.plot(prediction,'r')\n",
        "plt.title('full power daily prediction ' + str(method))\n",
        "plt.legend(['Actual', 'Prediction'])\n",
        "plt.xlabel('MSE = ' + str(MSE))"
      ],
      "metadata": {
        "id": "XOd6KzczE2QA"
      },
      "execution_count": null,
      "outputs": []
    },
    {
      "cell_type": "markdown",
      "source": [
        "**KNN Tuning**"
      ],
      "metadata": {
        "id": "E0SIF7g8FLUZ"
      }
    },
    {
      "cell_type": "code",
      "source": [
        "#HYPERPARAMETER TUNING#\n",
        "\n",
        "#Gradient Boosting#\n",
        "randomgrid = {\n",
        "    'n_neighbors': list(range(2,25)),\n",
        "    'weights': ['uniform', 'distance'],\n",
        "    'algorithm': ['auto', 'ball_tree', 'kd_tree', 'brute']}\n",
        "\n",
        "model = KNeighborsRegressor()\n",
        "rf_random = skl_ms.GridSearchCV(estimator=model , param_grid=randomgrid,\n",
        "                                cv=5, verbose = 10)\n",
        "rf_random.fit(X , y)"
      ],
      "metadata": {
        "id": "TKZrwX56FOi_"
      },
      "execution_count": null,
      "outputs": []
    },
    {
      "cell_type": "code",
      "source": [
        "print(f'Best set of hyperparameters are: {rf_random.best_params_}')"
      ],
      "metadata": {
        "id": "ICB96hSMFSW5"
      },
      "execution_count": null,
      "outputs": []
    },
    {
      "cell_type": "code",
      "source": [
        "model = KNeighborsRegressor(algorithm = 'ball_tree', n_neighbors = 15, weights = 'distance')\n",
        "model.fit(X_train,y_train)\n",
        "prediction = model.predict(X_test)\n",
        "MSE = mean_squared_error(y_test, prediction)/(10**12)\n",
        "MSE = \"%.2f\" % MSE\n",
        "method = 'KNN tuned'\n",
        "plt.plot(y_test.reset_index(drop=True))\n",
        "plt.plot(prediction,'r')\n",
        "plt.title('full power daily prediction ' + str(method))\n",
        "plt.legend(['Actual', 'Prediction'])\n",
        "plt.xlabel('MSE = ' + str(MSE))"
      ],
      "metadata": {
        "id": "EJr5BW5sFUCQ"
      },
      "execution_count": null,
      "outputs": []
    },
    {
      "cell_type": "markdown",
      "source": [
        "**SGD Tuning**"
      ],
      "metadata": {
        "id": "lMbcTTDZG8lp"
      }
    },
    {
      "cell_type": "code",
      "source": [
        "#HYPERPARAMETER TUNING#\n",
        "\n",
        "#Gradient Boosting#\n",
        "randomgrid = {\n",
        "    'loss': ['squared_error', 'huber', 'epsilon_insensitive', 'squared_epsilon_insensitive'],\n",
        "    'learning_rate': ['constant', 'optimal', 'invscaling','adaptive']}\n",
        "\n",
        "model = SGDRegressor()\n",
        "rf_random = skl_ms.GridSearchCV(estimator=model , param_grid=randomgrid,\n",
        "                                cv=5, verbose = 10)\n",
        "rf_random.fit(X , y)"
      ],
      "metadata": {
        "id": "x7rvcNIZG_nT"
      },
      "execution_count": null,
      "outputs": []
    },
    {
      "cell_type": "code",
      "source": [
        "print(f'Best set of hyperparameters are: {rf_random.best_params_}')"
      ],
      "metadata": {
        "id": "fBrpUiyPICNt"
      },
      "execution_count": null,
      "outputs": []
    },
    {
      "cell_type": "code",
      "source": [
        "model = SGDRegressor(learning_rate = 'invscaling', loss = 'squared_error')\n",
        "model.fit(X_train,y_train)\n",
        "prediction = model.predict(X_test)\n",
        "MSE = mean_squared_error(y_test, prediction)/(10**12)\n",
        "MSE = \"%.2f\" % MSE\n",
        "method = 'SGD tuned'\n",
        "plt.plot(y_test.reset_index(drop=True))\n",
        "plt.plot(prediction,'r')\n",
        "plt.title('full power daily prediction ' + str(method))\n",
        "plt.legend(['Actual', 'Prediction'])\n",
        "plt.xlabel('MSE = ' + str(MSE))"
      ],
      "metadata": {
        "id": "HLZZZ7KrIEyP"
      },
      "execution_count": null,
      "outputs": []
    },
    {
      "cell_type": "markdown",
      "source": [
        "**Random Forest Tuning**"
      ],
      "metadata": {
        "id": "dbQydUomMp_C"
      }
    },
    {
      "cell_type": "code",
      "source": [
        "#HYPERPARAMETER TUNING#\n",
        "\n",
        "#Gradient Boosting#\n",
        "randomgrid = {\n",
        "    'criterion': ['squared_error', 'absolute_error', 'poisson'],\n",
        "    'max_depth': ['None',1,2,3,4,5],\n",
        "    'min_samples_split': [2,3,4,5,6,7],\n",
        "    'random_state': [13]}\n",
        "\n",
        "model = RandomForestRegressor()\n",
        "rf_random = skl_ms.GridSearchCV(estimator=model , param_grid=randomgrid,\n",
        "                                cv=5, scoring = 'neg_mean_absolute_error', verbose = 10)\n",
        "rf_random.fit(X , y)"
      ],
      "metadata": {
        "id": "6nIQXcFhMsod"
      },
      "execution_count": null,
      "outputs": []
    },
    {
      "cell_type": "code",
      "source": [
        "print(f'Best set of hyperparameters are: {rf_random.best_params_}')"
      ],
      "metadata": {
        "id": "WnE_3nDAMw9z"
      },
      "execution_count": null,
      "outputs": []
    },
    {
      "cell_type": "code",
      "source": [
        "model = RandomForestRegressor(criterion = 'absolute_error', max_depth = 3, min_samples_split = 2, random_state = 13)\n",
        "model.fit(X_train,y_train)\n",
        "prediction = model.predict(X_test)\n",
        "MSE = mean_squared_error(y_test, prediction)/(10**12)\n",
        "MSE = \"%.2f\" % MSE\n",
        "method = 'RF tuned'\n",
        "plt.plot(y_test[0:50].reset_index(drop=True))\n",
        "plt.plot(prediction[0:50],'r')\n",
        "plt.title('full power daily prediction ' + str(method))\n",
        "plt.legend(['Actual', 'Prediction'])\n",
        "plt.xlabel('MSE = ' + str(MSE))\n",
        "print('MAE = ' + str(mean_absolute_error(y_test, prediction)/(10**6)))"
      ],
      "metadata": {
        "id": "3os7DOE1My5_"
      },
      "execution_count": null,
      "outputs": []
    },
    {
      "cell_type": "code",
      "source": [
        "list(y_test).index(y_test[145])"
      ],
      "metadata": {
        "id": "SSchDoYD8_d7"
      },
      "execution_count": null,
      "outputs": []
    },
    {
      "cell_type": "code",
      "source": [
        "y_test[101]"
      ],
      "metadata": {
        "id": "rfkPW1Rg6-BE"
      },
      "execution_count": null,
      "outputs": []
    },
    {
      "cell_type": "code",
      "source": [
        "prediction"
      ],
      "metadata": {
        "id": "g13Lervg8xD1"
      },
      "execution_count": null,
      "outputs": []
    },
    {
      "cell_type": "code",
      "source": [
        "data2.iloc[145]"
      ],
      "metadata": {
        "id": "pN5ScFrq6tsa"
      },
      "execution_count": null,
      "outputs": []
    },
    {
      "cell_type": "code",
      "source": [
        "abs(prediction-y_test).idxmax()"
      ],
      "metadata": {
        "id": "lvKu7pue5C5z"
      },
      "execution_count": null,
      "outputs": []
    },
    {
      "cell_type": "code",
      "source": [
        "abs(prediction-y_test).nlargest(n=10)"
      ],
      "metadata": {
        "id": "jA49KZT28Xby"
      },
      "execution_count": null,
      "outputs": []
    },
    {
      "cell_type": "code",
      "source": [
        "data2.loc[55]"
      ],
      "metadata": {
        "id": "j-cDCb0p5cC-"
      },
      "execution_count": null,
      "outputs": []
    },
    {
      "cell_type": "markdown",
      "source": [
        "**Limited power prediction**"
      ],
      "metadata": {
        "id": "1lxlERLkQbRi"
      }
    },
    {
      "cell_type": "code",
      "source": [
        "X = data2.drop(['Datum','POWER','POWER 100K+','POWER 90K+','POWER 80K+','POWER 70K+','POWER 60K+','POWER 50K+','POWER 40K+','POWER 30K+','POWER 20K+'], axis=1)\n",
        "y = data2['POWER 20K+']\n",
        "X_train, X_test, y_train, y_test = train_test_split(X, y, test_size=0.33, random_state=42)"
      ],
      "metadata": {
        "id": "V2BtmXqNQf_b"
      },
      "execution_count": null,
      "outputs": []
    },
    {
      "cell_type": "code",
      "source": [
        "model = RandomForestRegressor(criterion = 'squared_error', max_depth = 3, min_samples_split = 2, random_state = 13)\n",
        "model.fit(X_train,y_train)\n",
        "prediction = model.predict(X_test)\n",
        "MSE = mean_squared_error(y_test, prediction)/(10**12)\n",
        "MSE = \"%.2f\" % MSE\n",
        "method = 'RF tuned 20k+'\n",
        "plt.plot(y_test.reset_index(drop=True))\n",
        "plt.plot(prediction,'r')\n",
        "plt.title('full power daily prediction ' + str(method))\n",
        "plt.legend(['Actual', 'Prediction'])\n",
        "plt.xlabel('MSE = ' + str(MSE))"
      ],
      "metadata": {
        "id": "hF9z2lLsQoJp"
      },
      "execution_count": null,
      "outputs": []
    },
    {
      "cell_type": "code",
      "source": [
        "plt.plot(data2['POWER 50K+'])"
      ],
      "metadata": {
        "id": "ho8_pF2LQHF-"
      },
      "execution_count": null,
      "outputs": []
    }
  ]
}